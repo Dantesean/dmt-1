{
 "cells": [
  {
   "cell_type": "code",
   "execution_count": 1,
   "metadata": {},
   "outputs": [],
   "source": [
    "import pandas as pd\n",
    "import numpy as np\n",
    "import matplotlib.pyplot as plt\n",
    "import tensorflow as tf\n",
    "from tensorflow.keras.models import Sequential\n",
    "from tensorflow.keras.layers import Dense, Dropout, LSTM\n",
    "from sklearn.model_selection import train_test_split\n",
    "\n",
    "#Import data\n",
    "df = pd.read_csv('df_temporal.csv',index_col=0)\n",
    "df.set_index(['ID','time','t'],drop=True,inplace=True)\n",
    "df.reset_index(drop=False,inplace=True)\n",
    "df.fillna(0,inplace=True)\n",
    "ids = df.ID.unique()\n",
    "\n",
    "window = 5\n",
    "t_test = []\n",
    "t_pred = []"
   ]
  },
  {
   "cell_type": "code",
   "execution_count": 2,
   "metadata": {},
   "outputs": [],
   "source": [
    "for i in ids:\n",
    "    X = df[df.ID.values == i].iloc[:,range(3,len(df.columns))]\n",
    "    \n",
    "    last = int(len(df[df.ID.values == i])/5)\n",
    "    X_train = X[:-last]\n",
    "    X_test = X[-last-window:]\n",
    "    in_tr = []\n",
    "    out_tr = []\n",
    "    for j in range(window,len(X_train)):\n",
    "        in_tr.append(np.array(X_train.iloc[j-window:j,:]))\n",
    "        out_tr.append(np.array(X_train.iloc[j,0]))\n",
    "     \n",
    "    in_tr, out_tr = np.array(in_tr), np.array(out_tr)\n",
    "\n",
    "    in_te = []\n",
    "    out_te = []\n",
    "    for j in range(window,len(X_test)):\n",
    "        in_te.append(np.array(X_test.iloc[j-window:j,:]))\n",
    "        out_te.append(np.array(X_test.iloc[j,0]))\n",
    "     \n",
    "    in_te, out_te = np.array(in_te), np.array(out_te)\n",
    "\n",
    "    model = Sequential()\n",
    "\n",
    "    model.add(LSTM(128, input_shape=(in_tr.shape[1:]), activation='relu',return_sequences=True))\n",
    "    model.add(Dropout(0.2))\n",
    "\n",
    "    model.add(LSTM(128, input_shape=(in_tr.shape[1:]), activation='relu',return_sequences=False))\n",
    "    model.add(Dropout(0.2))\n",
    "    model.add(Dense(1, input_shape=([in_tr.shape[0],128]), activation='sigmoid'))\n",
    "\n",
    "    model.compile(loss='mse',optimizer='adam')\n",
    "    model.fit(in_tr, out_tr, epochs=100,verbose=0,batch_size=1)\n",
    "\n",
    "    t_test.extend(out_te.tolist())\n",
    "    predictions = model.predict(in_te)\n",
    "    for pred in range(len(predictions)):\n",
    "        t_pred.append(predictions.tolist()[pred][0])\n"
   ]
  },
  {
   "cell_type": "code",
   "execution_count": 3,
   "metadata": {
    "scrolled": true
   },
   "outputs": [
    {
     "name": "stdout",
     "output_type": "stream",
     "text": [
      "0.08577518546616705\n"
     ]
    }
   ],
   "source": [
    "from sklearn.metrics import mean_squared_error\n",
    "MSE=mean_squared_error(t_test,t_pred)\n",
    "print(MSE)"
   ]
  },
  {
   "cell_type": "markdown",
   "metadata": {},
   "source": [
    "t_pred = model.predict(in_te)\n",
    "plt.figure()\n",
    "plt.plot(t_pred,':',label='LSTM')\n",
    "plt.plot(t_test,'--',label='Actual')\n",
    "plt.legend()"
   ]
  }
 ],
 "metadata": {
  "kernelspec": {
   "display_name": "Python 3",
   "language": "python",
   "name": "python3"
  },
  "language_info": {
   "codemirror_mode": {
    "name": "ipython",
    "version": 3
   },
   "file_extension": ".py",
   "mimetype": "text/x-python",
   "name": "python",
   "nbconvert_exporter": "python",
   "pygments_lexer": "ipython3",
   "version": "3.7.6"
  }
 },
 "nbformat": 4,
 "nbformat_minor": 2
}
