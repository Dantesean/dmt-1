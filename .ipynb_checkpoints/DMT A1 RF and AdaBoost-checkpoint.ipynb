{
 "cells": [
  {
   "cell_type": "code",
   "execution_count": 1,
   "metadata": {},
   "outputs": [],
   "source": [
    "import pandas as pd\n",
    "import numpy as np\n",
    "import matplotlib.pyplot as plt\n",
    "\n",
    "# Import data\n",
    "df = pd.read_csv('df_nontemporal.csv')\n",
    "df.fillna(0,inplace=True)"
   ]
  },
  {
   "cell_type": "code",
   "execution_count": 2,
   "metadata": {},
   "outputs": [],
   "source": [
    "# Split data\n",
    "from sklearn.model_selection import train_test_split\n",
    "\n",
    "X = df.iloc[:,np.arange(4,len(df.columns)).tolist()]\n",
    "t = df['mood']\n",
    "\n",
    "X_train, X_test, t_train, t_test = train_test_split(X, t, test_size = 0.25, random_state = 42)"
   ]
  },
  {
   "cell_type": "code",
   "execution_count": 3,
   "metadata": {},
   "outputs": [
    {
     "name": "stdout",
     "output_type": "stream",
     "text": [
      "0.047319841634501\n"
     ]
    }
   ],
   "source": [
    "from sklearn.ensemble import RandomForestRegressor\n",
    "from sklearn.model_selection import cross_val_score, cross_val_predict\n",
    "from sklearn.metrics import mean_squared_error\n",
    "from sklearn.model_selection import GridSearchCV\n",
    "\n",
    "# Initiate model\n",
    "rf = RandomForestRegressor(n_estimators = 10, random_state = 42)\n",
    "rf.fit(X_train, t_train)\n",
    "t_pred=rf.predict(X_test)\n",
    "MSE=mean_squared_error(t_test,t_pred)\n",
    "print(MSE)"
   ]
  },
  {
   "cell_type": "code",
   "execution_count": null,
   "metadata": {},
   "outputs": [
    {
     "name": "stdout",
     "output_type": "stream",
     "text": [
      "Fitting 3 folds for each of 48 candidates, totalling 144 fits\n"
     ]
    },
    {
     "name": "stderr",
     "output_type": "stream",
     "text": [
      "[Parallel(n_jobs=-1)]: Using backend LokyBackend with 4 concurrent workers.\n",
      "[Parallel(n_jobs=-1)]: Done   5 tasks      | elapsed:    6.5s\n",
      "[Parallel(n_jobs=-1)]: Done  10 tasks      | elapsed:   10.0s\n",
      "[Parallel(n_jobs=-1)]: Done  17 tasks      | elapsed:   15.8s\n",
      "[Parallel(n_jobs=-1)]: Done  24 tasks      | elapsed:   20.0s\n",
      "[Parallel(n_jobs=-1)]: Done  33 tasks      | elapsed:   25.6s\n",
      "[Parallel(n_jobs=-1)]: Done  42 tasks      | elapsed:   32.2s\n",
      "[Parallel(n_jobs=-1)]: Done  53 tasks      | elapsed:   42.3s\n",
      "[Parallel(n_jobs=-1)]: Done  64 tasks      | elapsed:   48.8s\n",
      "[Parallel(n_jobs=-1)]: Done  77 tasks      | elapsed:   59.7s\n",
      "[Parallel(n_jobs=-1)]: Done  90 tasks      | elapsed:  1.2min\n",
      "[Parallel(n_jobs=-1)]: Done 105 tasks      | elapsed:  1.4min\n"
     ]
    }
   ],
   "source": [
    "param_grid = {\n",
    "    'bootstrap': [True],\n",
    "    'max_depth': [40, 60, 80, 100],\n",
    "    'max_features': ['auto'],\n",
    "    'min_samples_leaf': [1, 4],\n",
    "    'min_samples_split': [2, 4],\n",
    "    'n_estimators': [200, 500, 1000]\n",
    "}\n",
    "\n",
    "# Instantiate the grid search model\n",
    "rf_grid = GridSearchCV(estimator = RandomForestRegressor(), param_grid = param_grid, \n",
    "                          cv = 3, n_jobs = -1, verbose = 10)\n",
    "\n",
    "rf_grid.fit(X_train, t_train.values.ravel())\n",
    "print(rf_grid.best_params_)"
   ]
  },
  {
   "cell_type": "code",
   "execution_count": null,
   "metadata": {},
   "outputs": [],
   "source": [
    "t_pred=rf_grid.best_estimator_.predict(X_test)\n",
    "MSE=mean_squared_error(t_test.values.ravel(),t_pred)\n",
    "print(MSE)"
   ]
  },
  {
   "cell_type": "code",
   "execution_count": 32,
   "metadata": {},
   "outputs": [
    {
     "data": {
      "text/html": [
       "<div>\n",
       "<style scoped>\n",
       "    .dataframe tbody tr th:only-of-type {\n",
       "        vertical-align: middle;\n",
       "    }\n",
       "\n",
       "    .dataframe tbody tr th {\n",
       "        vertical-align: top;\n",
       "    }\n",
       "\n",
       "    .dataframe thead th {\n",
       "        text-align: right;\n",
       "    }\n",
       "</style>\n",
       "<table border=\"1\" class=\"dataframe\">\n",
       "  <thead>\n",
       "    <tr style=\"text-align: right;\">\n",
       "      <th></th>\n",
       "      <th>importance</th>\n",
       "    </tr>\n",
       "  </thead>\n",
       "  <tbody>\n",
       "    <tr>\n",
       "      <th>mood_3dayavg</th>\n",
       "      <td>0.120321</td>\n",
       "    </tr>\n",
       "    <tr>\n",
       "      <th>appCat.communication_3dayavg</th>\n",
       "      <td>0.119253</td>\n",
       "    </tr>\n",
       "    <tr>\n",
       "      <th>screen_3dayavg</th>\n",
       "      <td>0.102896</td>\n",
       "    </tr>\n",
       "    <tr>\n",
       "      <th>circumplex.valence_3dayavg</th>\n",
       "      <td>0.096536</td>\n",
       "    </tr>\n",
       "    <tr>\n",
       "      <th>appCat.convenience_3dayavg</th>\n",
       "      <td>0.095772</td>\n",
       "    </tr>\n",
       "    <tr>\n",
       "      <th>circumplex.arousal_3dayavg</th>\n",
       "      <td>0.092729</td>\n",
       "    </tr>\n",
       "    <tr>\n",
       "      <th>appCat.recreation_3dayavg</th>\n",
       "      <td>0.084624</td>\n",
       "    </tr>\n",
       "    <tr>\n",
       "      <th>activity_3dayavg</th>\n",
       "      <td>0.075517</td>\n",
       "    </tr>\n",
       "    <tr>\n",
       "      <th>appCat.professional_3dayavg</th>\n",
       "      <td>0.062890</td>\n",
       "    </tr>\n",
       "    <tr>\n",
       "      <th>sms_3dayavg</th>\n",
       "      <td>0.062495</td>\n",
       "    </tr>\n",
       "    <tr>\n",
       "      <th>call_3dayavg</th>\n",
       "      <td>0.055719</td>\n",
       "    </tr>\n",
       "    <tr>\n",
       "      <th>weekend</th>\n",
       "      <td>0.031249</td>\n",
       "    </tr>\n",
       "  </tbody>\n",
       "</table>\n",
       "</div>"
      ],
      "text/plain": [
       "                              importance\n",
       "mood_3dayavg                    0.120321\n",
       "appCat.communication_3dayavg    0.119253\n",
       "screen_3dayavg                  0.102896\n",
       "circumplex.valence_3dayavg      0.096536\n",
       "appCat.convenience_3dayavg      0.095772\n",
       "circumplex.arousal_3dayavg      0.092729\n",
       "appCat.recreation_3dayavg       0.084624\n",
       "activity_3dayavg                0.075517\n",
       "appCat.professional_3dayavg     0.062890\n",
       "sms_3dayavg                     0.062495\n",
       "call_3dayavg                    0.055719\n",
       "weekend                         0.031249"
      ]
     },
     "execution_count": 32,
     "metadata": {},
     "output_type": "execute_result"
    }
   ],
   "source": [
    "# Feature importance\n",
    "feature_importances = pd.DataFrame(rf.feature_importances_,\n",
    "                                   index = X_train.columns,\n",
    "                                   columns=['importance']).sort_values('importance',ascending=False)\n",
    "feature_importances"
   ]
  },
  {
   "cell_type": "code",
   "execution_count": 33,
   "metadata": {},
   "outputs": [],
   "source": [
    "from sklearn.ensemble import AdaBoostRegressor\n",
    "from sklearn.tree import DecisionTreeRegressor\n",
    "\n",
    "# simple fit\n",
    "AdaB = AdaBoostRegressor(\n",
    "    base_estimator = DecisionTreeRegressor(),\n",
    "    n_estimators=50, \n",
    "    learning_rate=1.0,\n",
    ")\n",
    "AdaB.fit(X_train,t_train.values.ravel())\n",
    "\n",
    "# sample param_grid for gridsearch later\n",
    "# note the base_estimator__ to tune the decision tree hyper parameters\n",
    "param_grid = {\n",
    "    \"base_estimator__max_depth\" : [1,2,5,None],\n",
    "    \"n_estimators\": [1,2,10,20,50],\n",
    "}\n"
   ]
  },
  {
   "cell_type": "code",
   "execution_count": 34,
   "metadata": {},
   "outputs": [
    {
     "name": "stdout",
     "output_type": "stream",
     "text": [
      "0.05145121868688249\n"
     ]
    }
   ],
   "source": [
    "t_pred=AdaB.predict(X_test)\n",
    "MSE=mean_squared_error(t_test.values.ravel(),t_pred)\n",
    "print(MSE)"
   ]
  },
  {
   "cell_type": "code",
   "execution_count": 35,
   "metadata": {},
   "outputs": [
    {
     "name": "stdout",
     "output_type": "stream",
     "text": [
      "Fitting 3 folds for each of 20 candidates, totalling 60 fits\n"
     ]
    },
    {
     "name": "stderr",
     "output_type": "stream",
     "text": [
      "[Parallel(n_jobs=-1)]: Using backend LokyBackend with 8 concurrent workers.\n",
      "[Parallel(n_jobs=-1)]: Done   2 tasks      | elapsed:    0.0s\n",
      "[Parallel(n_jobs=-1)]: Done   6 out of  60 | elapsed:    0.0s remaining:    0.4s\n"
     ]
    },
    {
     "name": "stdout",
     "output_type": "stream",
     "text": [
      "{'base_estimator__max_depth': 2, 'n_estimators': 50}\n"
     ]
    },
    {
     "name": "stderr",
     "output_type": "stream",
     "text": [
      "[Parallel(n_jobs=-1)]: Done  60 out of  60 | elapsed:    0.8s finished\n"
     ]
    }
   ],
   "source": [
    "AdaB_grid = GridSearchCV(estimator = AdaBoostRegressor(base_estimator=DecisionTreeRegressor()), param_grid = param_grid, \n",
    "                          cv = 3, n_jobs = -1, verbose = 5)\n",
    "AdaB_grid.fit(X_train, t_train.values.ravel())\n",
    "print(AdaB_grid.best_params_)"
   ]
  },
  {
   "cell_type": "code",
   "execution_count": 36,
   "metadata": {},
   "outputs": [
    {
     "name": "stdout",
     "output_type": "stream",
     "text": [
      "0.04886837699116784\n"
     ]
    }
   ],
   "source": [
    "t_pred=AdaB_grid.best_estimator_.predict(X_test)\n",
    "MSE=mean_squared_error(t_test.values.ravel(),t_pred)\n",
    "print(MSE)"
   ]
  },
  {
   "cell_type": "code",
   "execution_count": null,
   "metadata": {},
   "outputs": [],
   "source": []
  }
 ],
 "metadata": {
  "kernelspec": {
   "display_name": "Python 3",
   "language": "python",
   "name": "python3"
  },
  "language_info": {
   "codemirror_mode": {
    "name": "ipython",
    "version": 3
   },
   "file_extension": ".py",
   "mimetype": "text/x-python",
   "name": "python",
   "nbconvert_exporter": "python",
   "pygments_lexer": "ipython3",
   "version": "3.7.6"
  }
 },
 "nbformat": 4,
 "nbformat_minor": 2
}
